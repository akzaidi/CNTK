{
 "cells": [
  {
   "cell_type": "markdown",
   "metadata": {},
   "source": [
    "# Training an Image Classification Model in R via CNTK\n",
    "<img src=\"http://karpathy.github.io/assets/cifar_preview.png\" width=\"300px\" align=\"left\"/>"
   ]
  },
  {
   "cell_type": "code",
   "execution_count": 1,
   "metadata": {
    "scrolled": true
   },
   "outputs": [
    {
     "name": "stderr",
     "output_type": "stream",
     "text": [
      "Loading cntk\n"
     ]
    }
   ],
   "source": [
    "library(devtools)\n",
    "load_all()\n",
    "library(cntk)\n",
    "library(magrittr)"
   ]
  },
  {
   "cell_type": "code",
   "execution_count": 2,
   "metadata": {
    "collapsed": true
   },
   "outputs": [],
   "source": [
    "create_reader <- function(path, is_training, input_dim, label_dim) {\n",
    "    MinibatchSource(CTFDeserializer(path, sd <- StreamDefs(\n",
    "        features = StreamDef(field = \"features\", shape = input_dim),\n",
    "        labels = StreamDef(field = \"labels\", shape = label_dim)\n",
    "    )), randomize = is_training, max_sweeps = ifelse(is_training, 23L, 1L))\n",
    "}"
   ]
  },
  {
   "cell_type": "markdown",
   "metadata": {},
   "source": [
    "### Setup & Architecture"
   ]
  },
  {
   "cell_type": "code",
   "execution_count": 3,
   "metadata": {
    "collapsed": true
   },
   "outputs": [],
   "source": [
    "data_path <- file.path(\"..\", \"..\", \"Examples\", \"Image\", \"DataSets\", \"CIFAR-10\")\n",
    "epoch_size <- 200\n",
    "minibatch_size <- 64\n",
    "max_epochs <- 1\n",
    "image_height <- 32\n",
    "image_width <- 32\n",
    "num_channels <- 32\n",
    "input_dim <- image_height * image_width * num_channels\n",
    "num_output_classes <- 10"
   ]
  },
  {
   "cell_type": "markdown",
   "metadata": {},
   "source": [
    "Create the input variables denoting features and label data. Data type is automatically set to np.float32."
   ]
  },
  {
   "cell_type": "code",
   "execution_count": 4,
   "metadata": {
    "collapsed": true
   },
   "outputs": [],
   "source": [
    "input_var <- input_variable(c(num_channels, image_height, image_width), name=\"input\")\n",
    "label_var <- input_variable(num_output_classes, name=\"label\")"
   ]
  },
  {
   "cell_type": "markdown",
   "metadata": {},
   "source": [
    "Normalize inputs and define model architecture"
   ]
  },
  {
   "cell_type": "code",
   "execution_count": 5,
   "metadata": {
    "collapsed": true
   },
   "outputs": [],
   "source": [
    "input_remove_mean <- minus(input_var, constant(128))\n",
    "normalized_input <- element_times(constant(0.00390625), input_remove_mean)"
   ]
  },
  {
   "cell_type": "code",
   "execution_count": 6,
   "metadata": {
    "collapsed": true
   },
   "outputs": [],
   "source": [
    "z <- Sequential(\n",
    "    For(1:2, function() { \n",
    "        c(\n",
    "            Convolution2D(c(3, 3), 64, relu, pad = TRUE),\n",
    "            Convolution2D(c(3, 3), 64, relu, pad = TRUE),\n",
    "            MaxPooling(c(3, 3), c(2, 2), pad = TRUE)\n",
    "        )\n",
    "    }),\n",
    "    Dense(256, relu),\n",
    "    Dropout(0.5),\n",
    "    Dense(128, relu),\n",
    "    Dropout(0.5),\n",
    "    Dense(num_output_classes, activation = NULL)\n",
    ")(normalized_input)"
   ]
  },
  {
   "cell_type": "markdown",
   "metadata": {},
   "source": [
    "### Training\n",
    "Define cross entropy as loss function, classification error as evaluation metric"
   ]
  },
  {
   "cell_type": "code",
   "execution_count": 7,
   "metadata": {
    "collapsed": true
   },
   "outputs": [],
   "source": [
    "loss <- cross_entropy_with_softmax(z, label_var)\n",
    "metric <- classification_error(z, label_var)"
   ]
  },
  {
   "cell_type": "code",
   "execution_count": 8,
   "metadata": {
    "collapsed": true,
    "scrolled": false
   },
   "outputs": [],
   "source": [
    "reader_train <- create_reader(file.path(data_path, 'Train_cntk_text.txt'), \n",
    "                              TRUE, input_dim, num_output_classes)"
   ]
  },
  {
   "cell_type": "markdown",
   "metadata": {},
   "source": [
    "Set learning rate and momentum schedules, use SGD as learner"
   ]
  },
  {
   "cell_type": "code",
   "execution_count": 9,
   "metadata": {
    "collapsed": true
   },
   "outputs": [],
   "source": [
    "lr_per_sample <- c(rep(c(0.0015625), 10), rep(c(0.00046875), 10), 0.00015625)\n",
    "lr_schedule <- learning_rate_schedule(0.001, UnitType$sample, epoch_size)\n",
    "mm_time_constant <- c(rep(0, 20), -minibatch_size / log(0.9))\n",
    "mm_schedule <- momentum_as_time_constant_schedule(mm_time_constant, epoch_size)\n",
    "l2_reg_weight <- 0.002"
   ]
  },
  {
   "cell_type": "code",
   "execution_count": 10,
   "metadata": {},
   "outputs": [],
   "source": [
    "learner <- momentum_sgd(z$parameters, lr_schedule, mm_schedule,\n",
    "                       l2_regularization_weight = l2_reg_weight)\n",
    "progress_printer <- ProgressPrinter(tag = 'Training', num_epochs = max_epochs)\n",
    "trainer <- Trainer(z, c(loss, metric), learner, progress_printer)"
   ]
  },
  {
   "cell_type": "markdown",
   "metadata": {},
   "source": [
    "Creating mapping from features to data"
   ]
  },
  {
   "cell_type": "code",
   "execution_count": 11,
   "metadata": {
    "collapsed": true
   },
   "outputs": [],
   "source": [
    "input_map = mapping(\n",
    "    \"input\" = reader_train$streams$features,\n",
    "    \"label\" = reader_train$streams$labels\n",
    ")"
   ]
  },
  {
   "cell_type": "markdown",
   "metadata": {},
   "source": [
    "Update weights on training data across some number of epochs"
   ]
  },
  {
   "cell_type": "code",
   "execution_count": 12,
   "metadata": {
    "collapsed": true,
    "scrolled": false
   },
   "outputs": [],
   "source": [
    "loss_over_time <- c()\n",
    "for (epoch in 1:max_epochs) {\n",
    "    sample_count <- 0\n",
    "    while (sample_count < epoch_size) {\n",
    "        current_minibatch <- min(minibatch_size, epoch_size - sample_count)\n",
    "        data <- reader_train %>% next_minibatch(current_minibatch, input_map = input_map)\n",
    "        result <- trainer %>% test_minibatch(data)\n",
    "        loss_over_time <- c(loss_over_time, result)\n",
    "        trainer %>% train_minibatch(data)\n",
    "        sample_count <- sample_count + trainer$previous_minibatch_sample_count\n",
    "    }\n",
    "}"
   ]
  },
  {
   "cell_type": "code",
   "execution_count": 24,
   "metadata": {},
   "outputs": [
    {
     "data": {
      "image/png": "[encoded data removed]",
      "text/plain": [
       "plot without title"
      ]
     },
     "metadata": {},
     "output_type": "display_data"
    }
   ],
   "source": [
    "library(repr)\n",
    "options(repr.plot.width=4, repr.plot.height=2.5, repr.plot.res=90, repr.plot.pointsize=5)\n",
    "plot(loss_over_time, type=\"l\", xlab='', ylab='', sub=\"Training loss over time\")"
   ]
  },
  {
   "cell_type": "markdown",
   "metadata": {},
   "source": [
    "### Evaluation"
   ]
  },
  {
   "cell_type": "code",
   "execution_count": 14,
   "metadata": {
    "collapsed": true
   },
   "outputs": [],
   "source": [
    "reader_test <- create_reader(file.path(data_path, 'Test_cntk_text.txt'), FALSE,\n",
    "                            input_dim, num_output_classes)"
   ]
  },
  {
   "cell_type": "markdown",
   "metadata": {},
   "source": [
    "Redefine mapping to test data"
   ]
  },
  {
   "cell_type": "code",
   "execution_count": 15,
   "metadata": {
    "collapsed": true
   },
   "outputs": [],
   "source": [
    "input_map <- mapping(\n",
    "    \"input\" = reader_test$streams$features,\n",
    "    \"label\" = reader_test$streams$labels\n",
    ")"
   ]
  },
  {
   "cell_type": "code",
   "execution_count": 16,
   "metadata": {
    "collapsed": true
   },
   "outputs": [],
   "source": [
    "epoch_size <- 2000\n",
    "minibatch_size <- 200\n",
    "metric_numer <- 0\n",
    "metric_denom <- 0\n",
    "sample_count <- 0\n",
    "minibatch_index <- 0"
   ]
  },
  {
   "cell_type": "markdown",
   "metadata": {},
   "source": [
    "Evaluate model on test set"
   ]
  },
  {
   "cell_type": "code",
   "execution_count": 17,
   "metadata": {},
   "outputs": [],
   "source": [
    "while (sample_count < epoch_size) {\n",
    "    current_minibatch <- min(minibatch_size, epoch_size - sample_count)\n",
    "    data <- reader_test %>% next_minibatch(current_minibatch, input_map = input_map)\n",
    "    metric_numer = metric_numer + trainer %>% test_minibatch(data) * current_minibatch\n",
    "    metric_denom = metric_denom + current_minibatch\n",
    "    sample_count = sample_count + data$label$num_samples\n",
    "    minibatch_index = minibatch_index + 1\n",
    "}"
   ]
  },
  {
   "cell_type": "code",
   "execution_count": 25,
   "metadata": {},
   "outputs": [
    {
     "data": {
      "text/html": [
       "'Final error: 35%'"
      ],
      "text/latex": [
       "'Final error: 35\\%'"
      ],
      "text/markdown": [
       "'Final error: 35%'"
      ],
      "text/plain": [
       "[1] \"Final error: 35%\""
      ]
     },
     "metadata": {},
     "output_type": "display_data"
    }
   ],
   "source": [
    "sprintf(\"Final error: %g%%\", metric_numer / metric_denom * 100)"
   ]
  }
 ],
 "metadata": {
  "kernelspec": {
   "display_name": "R",
   "language": "R",
   "name": "ir"
  },
  "language_info": {
   "codemirror_mode": "r",
   "file_extension": ".r",
   "mimetype": "text/x-r-source",
   "name": "R",
   "pygments_lexer": "r",
   "version": "3.2.3"
  }
 },
 "nbformat": 4,
 "nbformat_minor": 2
}
